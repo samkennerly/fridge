{
 "metadata": {
  "name": ""
 },
 "nbformat": 3,
 "nbformat_minor": 0,
 "worksheets": [
  {
   "cells": [
    {
     "cell_type": "code",
     "collapsed": false,
     "input": [
      "# Test the minifridge class from the fridge library\n",
      "from fridge import minifridge"
     ],
     "language": "python",
     "metadata": {},
     "outputs": [],
     "prompt_number": 1
    },
    {
     "cell_type": "code",
     "collapsed": false,
     "input": [
      "# Create a minifridge with a 1-minute timer\n",
      "mf = minifridge(minutes=1)\n",
      "def inspect_fridge():\n",
      "    print len(mf), \"things are in the minifridge:\", mf.keys()\n",
      "inspect_fridge()"
     ],
     "language": "python",
     "metadata": {},
     "outputs": [
      {
       "output_type": "stream",
       "stream": "stdout",
       "text": [
        "0 things are in the minifridge: []\n"
       ]
      }
     ],
     "prompt_number": 2
    },
    {
     "cell_type": "code",
     "collapsed": false,
     "input": [
      "# Put some things in the minifridge\n",
      "mf.put('spam',42,expire=False)  # spam will outlast us all\n",
      "mf.put('eggs',2,seconds=2)      # eggs expires after 2 seconds\n",
      "mf['beer'] = 100                # beer expires after default time\n",
      "inspect_fridge()"
     ],
     "language": "python",
     "metadata": {},
     "outputs": [
      {
       "output_type": "stream",
       "stream": "stdout",
       "text": [
        "3 things are in the minifridge: ['eggs', 'beer', 'spam']\n"
       ]
      }
     ],
     "prompt_number": 3
    },
    {
     "cell_type": "code",
     "collapsed": false,
     "input": [
      "# Get things out of the minifridge.\n",
      "# (Try this again in a few seconds and see what happens.)\n",
      "def get_from_fridge(keys):\n",
      "    for key in keys:\n",
      "        if key in mf:\n",
      "            print key, \":\", mf[key]\n",
      "        else:\n",
      "            print \"%s is not in the minifridge.\" % key\n",
      "            \n",
      "inspect_fridge()\n",
      "get_from_fridge(['spam','eggs','beer'])"
     ],
     "language": "python",
     "metadata": {},
     "outputs": [
      {
       "output_type": "stream",
       "stream": "stdout",
       "text": [
        "3 things are in the minifridge: ['eggs', 'beer', 'spam']\n",
        "spam : 42\n",
        "eggs : 2\n",
        "beer : 100\n"
       ]
      }
     ],
     "prompt_number": 4
    },
    {
     "cell_type": "code",
     "collapsed": false,
     "input": [
      "# Throw out spam. Is anything left?\n",
      "del mf['spam']\n",
      "inspect_fridge()"
     ],
     "language": "python",
     "metadata": {},
     "outputs": [
      {
       "output_type": "stream",
       "stream": "stdout",
       "text": [
        "2 things are in the minifridge: ['eggs', 'beer']\n"
       ]
      }
     ],
     "prompt_number": 5
    },
    {
     "cell_type": "code",
     "collapsed": false,
     "input": [
      "# Use get() to avoid raising a KeyError when a key is bad\n",
      "print mf.get('spam',default='No spam for you.')"
     ],
     "language": "python",
     "metadata": {},
     "outputs": [
      {
       "output_type": "stream",
       "stream": "stdout",
       "text": [
        "No spam for you.\n"
       ]
      }
     ],
     "prompt_number": 6
    },
    {
     "cell_type": "code",
     "collapsed": false,
     "input": [
      "# Put some champagne in the fridge and 'pop' it\n",
      "mf['Champagne'] = 'Bubbles!'\n",
      "inspect_fridge()\n",
      "print \"Look:\", mf.pop('Champagne',default='Pas de champagne pour vous.')\n",
      "inspect_fridge()"
     ],
     "language": "python",
     "metadata": {},
     "outputs": [
      {
       "output_type": "stream",
       "stream": "stdout",
       "text": [
        "3 things are in the minifridge: ['eggs', 'Champagne', 'beer']\n",
        "Look: Bubbles!\n",
        "2 things are in the minifridge: ['eggs', 'beer']\n"
       ]
      }
     ],
     "prompt_number": 7
    },
    {
     "cell_type": "code",
     "collapsed": false,
     "input": [
      "# Delete all contents of the fridge\n",
      "mf.clear()\n",
      "inspect_fridge()"
     ],
     "language": "python",
     "metadata": {},
     "outputs": [
      {
       "output_type": "stream",
       "stream": "stdout",
       "text": [
        "0 things are in the minifridge: []\n"
       ]
      }
     ],
     "prompt_number": 8
    },
    {
     "cell_type": "code",
     "collapsed": false,
     "input": [
      "help(minifridge)"
     ],
     "language": "python",
     "metadata": {},
     "outputs": [
      {
       "output_type": "stream",
       "stream": "stdout",
       "text": [
        "Help on class minifridge in module fridge:\n",
        "\n",
        "class minifridge(__builtin__.object)\n",
        " |  A minifridge is like a dictionary, but with 2 extra rules:\n",
        " |  \n",
        " |  1. If another thread is using the fridge, then wait your turn.\n",
        " |  2. If you see something past its expiration date, then throw it out.\n",
        " |  \n",
        " |  Some minifridge methods allow users to set a countdown timer.\n",
        " |  These timers are set using keyword arguments for datetime.timedelta:\n",
        " |  weeks, days, hours, minutes, seconds, microseconds, milliseconds\n",
        " |  \n",
        " |  Examples:\n",
        " |  \n",
        " |  mf = minifridge(minutes=1)      # Make a fridge with 1-minute timer\n",
        " |  \n",
        " |  mf.put('spam',42,expire=False)  # Put spam in mf. It never expires\n",
        " |  mf.put('eggs',2,seconds=2)      # Put eggs in mf. It expires in 2 seconds.\n",
        " |  mf['beer'] = 100                # Put beer in mf. It expires in 1 minute.\n",
        " |  \n",
        " |  mf['spam']                      # Get value for key 'spam'\n",
        " |  mf.get('eggs',default='Nope')   # Get value without raising KeyError if key is bad\n",
        " |  mf.pop('beer',default=None)     # Pop value without raising KeyError if key is bad\n",
        " |  \n",
        " |  mf.keys()                       # Delete any bad items. Return the good keys.\n",
        " |  mf.purge()                      # Delete any expired (key,value) pairs\n",
        " |  mf.clear()                      # Delete everything \n",
        " |  \n",
        " |  minifridge was inspired by (but is not a fork of) ExpiringDict.\n",
        " |  Unlike ExipringDict, minifridge does not use re-entrant locks.\n",
        " |  https://github.com/mailgun/expiringdict\n",
        " |  \n",
        " |  Caution: There are no built-in limits to size or number of elements.\n",
        " |  Caution: Not all dictionary methods have been implemented yet.\n",
        " |  Caution: Not well-tested yet, especially with multi-threading.\n",
        " |  \n",
        " |  Methods defined here:\n",
        " |  \n",
        " |  __contains__(self, key)\n",
        " |  \n",
        " |  __delitem__(self, key)\n",
        " |  \n",
        " |  __getitem__(self, key)\n",
        " |  \n",
        " |  __init__(self, **kwargs)\n",
        " |  \n",
        " |  __len__(self)\n",
        " |  \n",
        " |  __setitem__(self, key, value)\n",
        " |  \n",
        " |  clear(self)\n",
        " |  \n",
        " |  get(self, key, default=None)\n",
        " |  \n",
        " |  keys(self)\n",
        " |  \n",
        " |  pop(self, key, default=None)\n",
        " |  \n",
        " |  purge(self)\n",
        " |  \n",
        " |  put(self, key, value, expire=True, **kwargs)\n",
        " |  \n",
        " |  set_expiration(self, key, expiration_time)\n",
        " |      TO DO: use pandas to_datetime() ?\n",
        " |  \n",
        " |  values(self)\n",
        " |  \n",
        " |  ----------------------------------------------------------------------\n",
        " |  Static methods defined here:\n",
        " |  \n",
        " |  is_past(t)\n",
        " |  \n",
        " |  ----------------------------------------------------------------------\n",
        " |  Data descriptors defined here:\n",
        " |  \n",
        " |  __dict__\n",
        " |      dictionary for instance variables (if defined)\n",
        " |  \n",
        " |  __weakref__\n",
        " |      list of weak references to the object (if defined)\n",
        "\n"
       ]
      }
     ],
     "prompt_number": 9
    }
   ],
   "metadata": {}
  }
 ]
}
