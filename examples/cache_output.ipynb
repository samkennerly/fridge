{
 "metadata": {
  "name": ""
 },
 "nbformat": 3,
 "nbformat_minor": 0,
 "worksheets": [
  {
   "cells": [
    {
     "cell_type": "code",
     "collapsed": false,
     "input": [
      "# Testing cache_output class-based function decorator\n",
      "import datetime as dt\n",
      "from fridge import cache_output"
     ],
     "language": "python",
     "metadata": {},
     "outputs": [],
     "prompt_number": 1
    },
    {
     "cell_type": "code",
     "collapsed": false,
     "input": [
      "# This decorator just displays how long a function takes to run\n",
      "def showtime(func):    \n",
      "    def wrapper(*args,**kwargs):\n",
      "        start = dt.datetime.now()\n",
      "        result = func(*args,**kwargs)\n",
      "        stop = dt.datetime.now()\n",
      "        print \"Elapsed time:\", stop - start\n",
      "        return result\n",
      "    return wrapper\n",
      "\n",
      "# Make a potentially expensive function.\n",
      "# Decorate it with @showtime so it will time itself.\n",
      "@showtime\n",
      "def power_tower(x,N):\n",
      "    for n in range(N):\n",
      "        x *= x\n",
      "    return x\n",
      "\n",
      "# How long does it take to run?\n",
      "big_number_1 = power_tower(2,30)\n",
      "big_number_2 = power_tower(2,30)\n",
      "big_number_1 == big_number_2"
     ],
     "language": "python",
     "metadata": {},
     "outputs": [
      {
       "output_type": "stream",
       "stream": "stdout",
       "text": [
        "Elapsed time: 0:00:09.768047\n",
        "Elapsed time:"
       ]
      },
      {
       "output_type": "stream",
       "stream": "stdout",
       "text": [
        " 0:00:09.677929\n"
       ]
      },
      {
       "metadata": {},
       "output_type": "pyout",
       "prompt_number": 2,
       "text": [
        "True"
       ]
      }
     ],
     "prompt_number": 2
    },
    {
     "cell_type": "code",
     "collapsed": false,
     "input": [
      "# Now make a cached version. Is it faster?\n",
      "@showtime\n",
      "@cache_output(seconds=10)\n",
      "def cached_power_tower(x,N):\n",
      "    for n in range(N):\n",
      "        x *= x\n",
      "    return x\n",
      "\n",
      "big_number_1 = cached_power_tower(2,30)\n",
      "big_number_2 = cached_power_tower(2,30)\n",
      "big_number_1 == big_number_2"
     ],
     "language": "python",
     "metadata": {},
     "outputs": [
      {
       "output_type": "stream",
       "stream": "stdout",
       "text": [
        "Elapsed time: 0:00:09.584844\n",
        "Elapsed time: 0:00:00.000068\n"
       ]
      },
      {
       "metadata": {},
       "output_type": "pyout",
       "prompt_number": 3,
       "text": [
        "True"
       ]
      }
     ],
     "prompt_number": 3
    },
    {
     "cell_type": "code",
     "collapsed": false,
     "input": [
      "help(cache_output)"
     ],
     "language": "python",
     "metadata": {},
     "outputs": [
      {
       "output_type": "stream",
       "stream": "stdout",
       "text": [
        "Help on class cache_output in module fridge:\n",
        "\n",
        "class cache_output(__builtin__.object)\n",
        " |  Class-based decorator used to avoid re-calculating a function.\n",
        " |  The first time the function is called, it initializes a minifridge.\n",
        " |  Each time the function is called, input arguments are hashed.\n",
        " |  The resulting hash is used as a minifridge key, and the outputs of\n",
        " |  calling the function are stored for a limited time.\n",
        " |  \n",
        " |  Set timer using keyword arguments for datetime.timedelta:\n",
        " |  weeks, days, hours, minutes, seconds, microseconds, milliseconds\n",
        " |  \n",
        " |  Example:\n",
        " |  \n",
        " |  @cache_output(hours=1)\n",
        " |  def cached_power_tower(x,N):\n",
        " |      for n in range(N):\n",
        " |          x *= x\n",
        " |      return x\n",
        " |      \n",
        " |  This function can be extremely slow for N > 30.\n",
        " |  If it's called again with the same arguments within 1 hour,\n",
        " |  then it will just get the previous answer from a minifridge.\n",
        " |  \n",
        " |  cache_output is almost identical to Scott Lobdell's Memoized class:\n",
        " |  http://scottlobdell.me/2015/04/decorators-arguments-python/\n",
        " |  except that it uses a minifridge instead of a deque for storage.\n",
        " |  \n",
        " |      WARNING: @cache_output stores *outputs* of a function.\n",
        " |      It does not replicate *side effects* of a function!\n",
        " |  \n",
        " |  Caution: Not well-tested yet, especially with multi-threading.\n",
        " |  \n",
        " |  Methods defined here:\n",
        " |  \n",
        " |  __call__(self, func, *args, **kwargs)\n",
        " |  \n",
        " |  __init__(self, **kwargs)\n",
        " |  \n",
        " |  ----------------------------------------------------------------------\n",
        " |  Data descriptors defined here:\n",
        " |  \n",
        " |  __dict__\n",
        " |      dictionary for instance variables (if defined)\n",
        " |  \n",
        " |  __weakref__\n",
        " |      list of weak references to the object (if defined)\n",
        "\n"
       ]
      }
     ],
     "prompt_number": 4
    }
   ],
   "metadata": {}
  }
 ]
}
