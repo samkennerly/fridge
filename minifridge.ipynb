{
 "cells": [
  {
   "cell_type": "markdown",
   "metadata": {},
   "source": [
    "# Test the `MiniFridge()` class"
   ]
  },
  {
   "cell_type": "code",
   "execution_count": 1,
   "metadata": {
    "collapsed": false
   },
   "outputs": [],
   "source": [
    "import fridge"
   ]
  },
  {
   "cell_type": "markdown",
   "metadata": {},
   "source": [
    "## Create a `MiniFridge` with a 1-minute default timer"
   ]
  },
  {
   "cell_type": "code",
   "execution_count": 2,
   "metadata": {
    "collapsed": false
   },
   "outputs": [
    {
     "data": {
      "text/plain": [
       "<fridge.MiniFridge at 0x106426d68>"
      ]
     },
     "execution_count": 2,
     "metadata": {},
     "output_type": "execute_result"
    }
   ],
   "source": [
    "mf = fridge.MiniFridge(minutes=1)\n",
    "mf"
   ]
  },
  {
   "cell_type": "markdown",
   "metadata": {},
   "source": [
    "## What's in the `MiniFridge`?"
   ]
  },
  {
   "cell_type": "code",
   "execution_count": 3,
   "metadata": {
    "collapsed": false
   },
   "outputs": [
    {
     "data": {
      "text/plain": [
       "dict_keys([])"
      ]
     },
     "execution_count": 3,
     "metadata": {},
     "output_type": "execute_result"
    }
   ],
   "source": [
    "mf.keys()"
   ]
  },
  {
   "cell_type": "code",
   "execution_count": 4,
   "metadata": {
    "collapsed": false
   },
   "outputs": [
    {
     "data": {
      "text/plain": [
       "dict_keys(['spam', 'beer', 'eggs'])"
      ]
     },
     "execution_count": 4,
     "metadata": {},
     "output_type": "execute_result"
    }
   ],
   "source": [
    "# Put some things in the MiniFridge\n",
    "mf.put('spam',42,expire=False)  # spam will outlast us all\n",
    "mf.put('eggs',2,seconds=2)      # eggs expires after 2 seconds\n",
    "mf['beer'] = 100                # beer expires after default time\n",
    "mf.keys()"
   ]
  },
  {
   "cell_type": "code",
   "execution_count": 5,
   "metadata": {
    "collapsed": false
   },
   "outputs": [
    {
     "name": "stdout",
     "output_type": "stream",
     "text": [
      "spam 42\n",
      "beer 100\n",
      "eggs 2\n"
     ]
    }
   ],
   "source": [
    "# Get things out of the MiniFridge.\n",
    "for key in mf.keys():\n",
    "    print(key,mf[key])"
   ]
  },
  {
   "cell_type": "markdown",
   "metadata": {},
   "source": [
    "## Wait a few seconds and see if anything expires"
   ]
  },
  {
   "cell_type": "code",
   "execution_count": 6,
   "metadata": {
    "collapsed": false
   },
   "outputs": [
    {
     "name": "stdout",
     "output_type": "stream",
     "text": [
      "spam in fridge? True\n",
      "eggs in fridge? True\n",
      "beer in fridge? True\n"
     ]
    }
   ],
   "source": [
    "for x in ['spam','eggs','beer']:\n",
    "    print( \"%s in fridge? %s\" % (x, x in mf) )"
   ]
  },
  {
   "cell_type": "code",
   "execution_count": 7,
   "metadata": {
    "collapsed": false
   },
   "outputs": [],
   "source": [
    "import time\n",
    "time.sleep(2)"
   ]
  },
  {
   "cell_type": "code",
   "execution_count": 8,
   "metadata": {
    "collapsed": false
   },
   "outputs": [
    {
     "name": "stdout",
     "output_type": "stream",
     "text": [
      "spam in fridge? True\n",
      "eggs in fridge? False\n",
      "beer in fridge? True\n"
     ]
    }
   ],
   "source": [
    "for x in ['spam','eggs','beer']:\n",
    "    print( \"%s in fridge? %s\" % (x, x in mf) )"
   ]
  },
  {
   "cell_type": "code",
   "execution_count": 9,
   "metadata": {
    "collapsed": false
   },
   "outputs": [
    {
     "data": {
      "text/plain": [
       "dict_keys(['beer'])"
      ]
     },
     "execution_count": 9,
     "metadata": {},
     "output_type": "execute_result"
    }
   ],
   "source": [
    "# Throw out spam. Is anything left?\n",
    "del mf['spam']\n",
    "mf.keys()"
   ]
  },
  {
   "cell_type": "markdown",
   "metadata": {},
   "source": [
    "## Other methods"
   ]
  },
  {
   "cell_type": "code",
   "execution_count": 10,
   "metadata": {
    "collapsed": false
   },
   "outputs": [
    {
     "data": {
      "text/plain": [
       "'No spam for you.'"
      ]
     },
     "execution_count": 10,
     "metadata": {},
     "output_type": "execute_result"
    }
   ],
   "source": [
    "# Use get() to avoid raising a KeyError when a key is bad\n",
    "mf.get('spam',default='No spam for you.')"
   ]
  },
  {
   "cell_type": "code",
   "execution_count": 11,
   "metadata": {
    "collapsed": false
   },
   "outputs": [
    {
     "data": {
      "text/plain": [
       "dict_keys(['beer', 'Champagne'])"
      ]
     },
     "execution_count": 11,
     "metadata": {},
     "output_type": "execute_result"
    }
   ],
   "source": [
    "# Put some Champagne in the fridge\n",
    "mf['Champagne'] = 'Bubbles!'\n",
    "mf.keys()"
   ]
  },
  {
   "cell_type": "code",
   "execution_count": 12,
   "metadata": {
    "collapsed": false
   },
   "outputs": [
    {
     "data": {
      "text/plain": [
       "'Bubbles!'"
      ]
     },
     "execution_count": 12,
     "metadata": {},
     "output_type": "execute_result"
    }
   ],
   "source": [
    "# Pop the Champagne\n",
    "mf.pop('Champagne',default='Pas de champagne pour vous.')"
   ]
  },
  {
   "cell_type": "code",
   "execution_count": 13,
   "metadata": {
    "collapsed": false
   },
   "outputs": [
    {
     "data": {
      "text/plain": [
       "False"
      ]
     },
     "execution_count": 13,
     "metadata": {},
     "output_type": "execute_result"
    }
   ],
   "source": [
    "# Is there any more Champagne?\n",
    "'Champagne' in mf"
   ]
  },
  {
   "cell_type": "code",
   "execution_count": 14,
   "metadata": {
    "collapsed": false
   },
   "outputs": [
    {
     "data": {
      "text/plain": [
       "dict_keys([])"
      ]
     },
     "execution_count": 14,
     "metadata": {},
     "output_type": "execute_result"
    }
   ],
   "source": [
    "# Delete all contents of the fridge\n",
    "mf.clear()\n",
    "mf.keys()"
   ]
  },
  {
   "cell_type": "markdown",
   "metadata": {},
   "source": [
    "## Show `help()`"
   ]
  },
  {
   "cell_type": "code",
   "execution_count": 15,
   "metadata": {
    "collapsed": false
   },
   "outputs": [
    {
     "name": "stdout",
     "output_type": "stream",
     "text": [
      "Help on class MiniFridge in module fridge:\n",
      "\n",
      "class MiniFridge(builtins.object)\n",
      " |  A MiniFridge is like a dictionary, but with 2 extra rules:\n",
      " |  \n",
      " |  1. If another thread is using the fridge, then wait your turn.\n",
      " |  2. If you see something past its expiration date, then throw it out.\n",
      " |  \n",
      " |  Some MiniFridge methods allow users to set a countdown timer.\n",
      " |  These timers are set using keyword arguments for datetime.timedelta:\n",
      " |  weeks, days, hours, minutes, seconds, microseconds, milliseconds\n",
      " |  \n",
      " |  Examples:\n",
      " |  \n",
      " |  mf = MiniFridge(minutes=1)      # Make a MiniFridge with 1-minute timer\n",
      " |  \n",
      " |  mf.put('spam',42,expire=False)  # Put spam in mf. It never expires\n",
      " |  mf.put('eggs',2,seconds=2)      # Put eggs in mf. It expires in 2 seconds.\n",
      " |  mf['beer'] = 100                # Put beer in mf. It expires in 1 minute.\n",
      " |  \n",
      " |  mf['spam']                      # Get value for key 'spam'\n",
      " |  mf.get('eggs',default='Nope')   # Get value without raising KeyError if key is bad\n",
      " |  mf.pop('beer',default=None)     # Pop value without raising KeyError if key is bad\n",
      " |  \n",
      " |  mf.keys()                       # Delete any bad items. Return the good keys.\n",
      " |  mf.purge()                      # Delete any expired (key,value) pairs\n",
      " |  mf.clear()                      # Delete everything \n",
      " |      \n",
      " |  Caution: There are no built-in limits to size or number of elements.\n",
      " |  Caution: Not all dictionary methods have been implemented yet.\n",
      " |  Caution: Not well-tested yet, especially with multi-threading.\n",
      " |  \n",
      " |  Methods defined here:\n",
      " |  \n",
      " |  __contains__(self, key)\n",
      " |      Magic function for answering \"x in MiniFridge\" questions.\n",
      " |      If key is not found, then return False.\n",
      " |      If key is found but has expired, then throw it out! Return False.\n",
      " |      If key is found and has not expired, then return True.\n",
      " |  \n",
      " |  __delitem__(self, key)\n",
      " |      Delete (key,value) pair\n",
      " |  \n",
      " |  __getitem__(self, key)\n",
      " |      Get a value from the MiniFridge dictionary-style.\n",
      " |      If key is not found, this will throw a KeyError.\n",
      " |      If key is found but expired, this with throw a KeyError.\n",
      " |  \n",
      " |  __init__(self, **kwargs)\n",
      " |      Initialize an empty dictionary with a lock and optional default timer.\n",
      " |      Use timedelta kwargs to set default timer. Stored items will expire\n",
      " |      after this much time unless specified otherwise. If no **kwargs,\n",
      " |      then timer is set to roughly 100 years.\n",
      " |  \n",
      " |  __len__(self)\n",
      " |      How many items are in the fridge?\n",
      " |  \n",
      " |  __setitem__(self, key, value)\n",
      " |      Put a (key,value) pair in the MiniFridge dictionary-style\n",
      " |  \n",
      " |  clear(self)\n",
      " |      Delete all (key,value) pairs\n",
      " |  \n",
      " |  get(self, key, default=None)\n",
      " |      Like __getitem__(), but does not raise a KeyError if key is bad.\n",
      " |      Returns default value instead.\n",
      " |  \n",
      " |  keys(self)\n",
      " |      Throw out anything that has expired.\n",
      " |      Return whatever keys are left.\n",
      " |  \n",
      " |  pop(self, key, default=None)\n",
      " |      Pop a value: return it and delete it. Like get(), but\n",
      " |      deletes (key,value) whether or not it has expired.\n",
      " |  \n",
      " |  purge(self)\n",
      " |      Throw out anything that has expired\n",
      " |  \n",
      " |  put(self, key, value, expire=True, **kwargs)\n",
      " |      Put a (key,value) pair in the MiniFridge with optional timer.\n",
      " |      By default, it will expire after default_timer elapses.\n",
      " |      To choose a different lifetime, use timedelta kwargs.\n",
      " |      To set lifetime to infinity, use expire=False.\n",
      " |  \n",
      " |  set_expiration(self, key, expiration_time)\n",
      " |      Instead of a countdown timer, set a specific expiration date.\n",
      " |      expiration_time should be a datetime object.\n",
      " |      Will raise a KeyError if key is not found.\n",
      " |  \n",
      " |  values(self)\n",
      " |      Throw out anything that has expired.\n",
      " |      Return whatever values are left.\n",
      " |  \n",
      " |  ----------------------------------------------------------------------\n",
      " |  Static methods defined here:\n",
      " |  \n",
      " |  is_past(t)\n",
      " |      Convenience function for figuring out if something has expired\n",
      " |  \n",
      " |  ----------------------------------------------------------------------\n",
      " |  Data descriptors defined here:\n",
      " |  \n",
      " |  __dict__\n",
      " |      dictionary for instance variables (if defined)\n",
      " |  \n",
      " |  __weakref__\n",
      " |      list of weak references to the object (if defined)\n",
      "\n"
     ]
    }
   ],
   "source": [
    "help(fridge.MiniFridge)"
   ]
  }
 ],
 "metadata": {
  "anaconda-cloud": {},
  "kernelspec": {
   "display_name": "Python [default]",
   "language": "python",
   "name": "python3"
  },
  "language_info": {
   "codemirror_mode": {
    "name": "ipython",
    "version": 3
   },
   "file_extension": ".py",
   "mimetype": "text/x-python",
   "name": "python",
   "nbconvert_exporter": "python",
   "pygments_lexer": "ipython3",
   "version": "3.5.2"
  }
 },
 "nbformat": 4,
 "nbformat_minor": 0
}
