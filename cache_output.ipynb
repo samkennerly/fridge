{
 "cells": [
  {
   "cell_type": "markdown",
   "metadata": {},
   "source": [
    "## Test `CacheOutput()` class-based function decorator"
   ]
  },
  {
   "cell_type": "code",
   "execution_count": 1,
   "metadata": {
    "collapsed": false
   },
   "outputs": [],
   "source": [
    "import datetime as dt\n",
    "import time\n",
    "import fridge"
   ]
  },
  {
   "cell_type": "markdown",
   "metadata": {},
   "source": [
    "## Make an expensive function and time it"
   ]
  },
  {
   "cell_type": "code",
   "execution_count": 2,
   "metadata": {
    "collapsed": false
   },
   "outputs": [
    {
     "name": "stdout",
     "output_type": "stream",
     "text": [
      "Elapsed time: 0:00:00.170343\n",
      "Elapsed time: 0:00:00.157895\n"
     ]
    },
    {
     "data": {
      "text/plain": [
       "True"
      ]
     },
     "execution_count": 2,
     "metadata": {},
     "output_type": "execute_result"
    }
   ],
   "source": [
    "# This decorator just displays how long a function takes to run\n",
    "def showtime(func):    \n",
    "    def wrapper(*args,**kwargs):\n",
    "        start = dt.datetime.now()\n",
    "        result = func(*args,**kwargs)\n",
    "        stop = dt.datetime.now()\n",
    "        print( \"Elapsed time:\", stop - start )\n",
    "        return result\n",
    "    return wrapper\n",
    "\n",
    "# Make a potentially expensive function.\n",
    "# Decorate it with @showtime so it will time itself.\n",
    "@showtime\n",
    "def power_tower(x,N):\n",
    "    for n in range(N):\n",
    "        x *= x\n",
    "    return x\n",
    "\n",
    "# How long does it take to run?\n",
    "big_number_1 = power_tower(2,25)\n",
    "big_number_2 = power_tower(2,25)\n",
    "big_number_1 == big_number_2"
   ]
  },
  {
   "cell_type": "markdown",
   "metadata": {},
   "source": [
    "## Cache the function results\n",
    "If the exact same inputs are used again before the time limit expires,\n",
    "then we should see the same outputs without re-calculating anything."
   ]
  },
  {
   "cell_type": "code",
   "execution_count": 3,
   "metadata": {
    "collapsed": false
   },
   "outputs": [
    {
     "name": "stdout",
     "output_type": "stream",
     "text": [
      "Elapsed time: 0:00:00.167852\n",
      "Elapsed time: 0:00:00.000026\n"
     ]
    },
    {
     "data": {
      "text/plain": [
       "True"
      ]
     },
     "execution_count": 3,
     "metadata": {},
     "output_type": "execute_result"
    }
   ],
   "source": [
    "# Now make a cached version. Is it faster?\n",
    "@showtime\n",
    "@fridge.CacheOutput(seconds=5)\n",
    "def cached_power_tower(x,N):\n",
    "    for n in range(N):\n",
    "        x *= x\n",
    "    return x\n",
    "\n",
    "big_number_1 = cached_power_tower(2,25)\n",
    "big_number_2 = cached_power_tower(2,25)\n",
    "big_number_1 == big_number_2"
   ]
  },
  {
   "cell_type": "markdown",
   "metadata": {},
   "source": [
    "## Does the cache expire like it should?"
   ]
  },
  {
   "cell_type": "code",
   "execution_count": 4,
   "metadata": {
    "collapsed": false
   },
   "outputs": [
    {
     "name": "stdout",
     "output_type": "stream",
     "text": [
      "Elapsed time: 0:00:00.155627\n"
     ]
    }
   ],
   "source": [
    "# After the cache expires, this function will need time to re-calculate\n",
    "time.sleep(5)\n",
    "big_number_3 = cached_power_tower(2,25)"
   ]
  },
  {
   "cell_type": "markdown",
   "metadata": {},
   "source": [
    "## Show `help()`"
   ]
  },
  {
   "cell_type": "code",
   "execution_count": 5,
   "metadata": {
    "collapsed": false
   },
   "outputs": [
    {
     "name": "stdout",
     "output_type": "stream",
     "text": [
      "Help on class CacheOutput in module fridge:\n",
      "\n",
      "class CacheOutput(builtins.object)\n",
      " |  Class-based decorator used to avoid re-calculating a function.\n",
      " |  The first time the function is called, it initializes a minifridge.\n",
      " |  Each time the function is called, input arguments are hashed.\n",
      " |  The resulting hash is used as a minifridge key, and the outputs of\n",
      " |  calling the function are stored for a limited time.\n",
      " |  \n",
      " |  Set timer using keyword arguments for datetime.timedelta:\n",
      " |  weeks, days, hours, minutes, seconds, microseconds, milliseconds\n",
      " |  \n",
      " |  Example:\n",
      " |  \n",
      " |  @cache_output(hours=1)\n",
      " |  def cached_power_tower(x,N):\n",
      " |      for n in range(N):\n",
      " |          x *= x\n",
      " |      return x\n",
      " |  \n",
      " |  cache_output is almost identical to Scott Lobdell's Memoized decorator:\n",
      " |  http://scottlobdell.me/2015/04/decorators-arguments-python/\n",
      " |  except that it uses a minifridge instead of a deque for storage.\n",
      " |  \n",
      " |  WARNING: @cache_output stores *outputs* of a function.\n",
      " |  It does not replicate *side effects* of a function!\n",
      " |  \n",
      " |  Caution: Not well-tested yet, especially with multi-threading.\n",
      " |  \n",
      " |  Methods defined here:\n",
      " |  \n",
      " |  __call__(self, func, *args, **kwargs)\n",
      " |      Call self as a function.\n",
      " |  \n",
      " |  __init__(self, **kwargs)\n",
      " |      Create a minifridge with timer set by timedelta arguments\n",
      " |  \n",
      " |  ----------------------------------------------------------------------\n",
      " |  Data descriptors defined here:\n",
      " |  \n",
      " |  __dict__\n",
      " |      dictionary for instance variables (if defined)\n",
      " |  \n",
      " |  __weakref__\n",
      " |      list of weak references to the object (if defined)\n",
      "\n"
     ]
    }
   ],
   "source": [
    "help(fridge.CacheOutput)"
   ]
  }
 ],
 "metadata": {
  "kernelspec": {
   "display_name": "Python [default]",
   "language": "python",
   "name": "python3"
  },
  "language_info": {
   "codemirror_mode": {
    "name": "ipython",
    "version": 3
   },
   "file_extension": ".py",
   "mimetype": "text/x-python",
   "name": "python",
   "nbconvert_exporter": "python",
   "pygments_lexer": "ipython3",
   "version": "3.5.2"
  }
 },
 "nbformat": 4,
 "nbformat_minor": 0
}
